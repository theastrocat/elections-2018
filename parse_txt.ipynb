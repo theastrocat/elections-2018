{
 "cells": [
  {
   "cell_type": "markdown",
   "metadata": {
    "deletable": true,
    "editable": true
   },
   "source": [
    "# Parse Txt"
   ]
  },
  {
   "cell_type": "code",
   "execution_count": 1,
   "metadata": {
    "collapsed": true,
    "deletable": true,
    "editable": true
   },
   "outputs": [],
   "source": [
    "import PyPDF2 as pydf\n",
    "import pandas as pd\n",
    "from pandas import DataFrame as DF, Series\n",
    "import numpy as np\n",
    "import re"
   ]
  },
  {
   "cell_type": "code",
   "execution_count": 2,
   "metadata": {
    "collapsed": false,
    "deletable": true,
    "editable": true
   },
   "outputs": [],
   "source": [
    "path = 'results-5-2010.pdf'\n",
    "pdf = open(path, 'rb')"
   ]
  },
  {
   "cell_type": "code",
   "execution_count": 3,
   "metadata": {
    "collapsed": false,
    "deletable": true,
    "editable": true
   },
   "outputs": [],
   "source": [
    "reader = pydf.PdfFileReader(pdf)"
   ]
  },
  {
   "cell_type": "code",
   "execution_count": 32,
   "metadata": {
    "collapsed": false,
    "deletable": true,
    "editable": true
   },
   "outputs": [],
   "source": [
    "page = reader.getPage(1)"
   ]
  },
  {
   "cell_type": "code",
   "execution_count": 33,
   "metadata": {
    "collapsed": false,
    "deletable": true,
    "editable": true,
    "scrolled": true
   },
   "outputs": [
    {
     "name": "stdout",
     "output_type": "stream",
     "text": [
      "May 18, 2010, Primary Election Abstracts of Votes * Nominee \n",
      "** Elected WI = Write In\n",
      " 2UNITED STATES SENATOR Republican  Stutzman Parker Later Dinkel \n",
      "*Huffman Woodland Waldron Misc. \n",
      "County Tom Robin S Loren G Shane Jim Walter H       Keith  \n",
      "Baker 235 106 375 364 587 32 245 18 \n",
      "Benton 797 268 919 702 2,207 86 431 51 \n",
      "Clackamas 2,940 1,281 3,590\n",
      " 3,054 13,624 382 2,582 162 \n",
      "Clatsop 345 199 302 276 1,044 45 259 45 \n",
      "Columbia 383 171 485 568 1,555 66 238 43 \n",
      "Coos 843 466 979 830 1,773 128 598 56 \n",
      "\n",
      "Crook 255 122 329 441 894 60 332 28 \n",
      "Curry 339 188 516 539 746 55 258 33 \n",
      "Deschutes 1,053 813 2,161 2,103 6,677 189 1,264 107 \n",
      "Douglas 1,362 652 1,983 1,901 4,784 208 1,314 113 \n",
      "Gilliam 20 12 22 28 171 0 11 1 \n",
      "\n",
      "Grant 90 41 93 209 590 18 81 14 \n",
      "Harney 147 71 184 212 280 15 153 19 \n",
      "Hood River 201 104 148 164 574 21 122 11 \n",
      "Jackson 1,429 925 3,549 2,838 5,250 251 1,603 106 \n",
      "Jefferson 116 67 144 297 1,168 34 121  9 \n",
      "\n",
      "Josephine 890 570 1,568 1,661 2,535 192 1,075 102 \n",
      "Klamath 640 501 1,419 1,236 1,978 145 1,005 53 \n",
      "Lake 195 90 215 203 241 19 187  8 \n",
      "Lane 2,590 1,385 3,358 3,372 9,528 517 1,396 241 \n",
      "Lincoln 554 241 526 481 1,287 60 264 36 \n",
      "\n",
      "Linn 2,074 504 1,622 1,229 3,234 141 753 44 \n",
      "Malheur 313 165 441 671 730 42 405 17 \n",
      "Marion 3,562 1,283 3,153 2,972 9,140 386 2,107 195 \n",
      "Morrow 155 56 128 147 271 31 105 10 \n",
      "Multnomah 2,739 1,202 2,826 2,459 12,215 386 2,128 304 \n",
      "\n",
      "Polk 1,173 339 978 887 2,713 110 691 32 \n",
      "Sherman 27 11 27 18 202 2 20  4 \n",
      "Tillamook 286 118 283 266 904 42 253 28 \n",
      "Umatilla 515 295 683 817 1,437 87 723 53 \n",
      "Union 367 157 395 508 1,047 42 333 42 \n",
      "\n",
      "Wallowa 95 59 148 328 326 27 193 22 \n",
      "Wasco 169 81 137 158 1,362 24 148 17 \n",
      "Washington 3,512 1,586 4,894\n",
      " 3,564 15,615 428 2,450 261 \n",
      "Wheeler 20 10 15 19 101 2 26  7 \n",
      "Yamhill 1,428 498 1,158 1,238 3,660 144 728 71 \n",
      " TOTAL 31,859 14,637 39,753 36,760 110,\n",
      "450 4,417   24,602   2,363 \n",
      "\n"
     ]
    }
   ],
   "source": [
    "print(page.extractText())"
   ]
  },
  {
   "cell_type": "code",
   "execution_count": 6,
   "metadata": {
    "collapsed": true,
    "deletable": true,
    "editable": true
   },
   "outputs": [],
   "source": [
    "pages = []\n",
    "for i in range(reader.numPages):\n",
    "    pages.append(reader.getPage(i).extractText())"
   ]
  },
  {
   "cell_type": "code",
   "execution_count": null,
   "metadata": {
    "collapsed": true
   },
   "outputs": [],
   "source": [
    "re.findall('Write')"
   ]
  },
  {
   "cell_type": "code",
   "execution_count": 26,
   "metadata": {
    "collapsed": false
   },
   "outputs": [
    {
     "data": {
      "text/plain": [
       "[165, 438]"
      ]
     },
     "execution_count": 26,
     "metadata": {},
     "output_type": "execute_result"
    }
   ],
   "source": [
    "[m.span()[1] for m in re.finditer('County', pages[2])]"
   ]
  },
  {
   "cell_type": "code",
   "execution_count": 174,
   "metadata": {
    "collapsed": false,
    "scrolled": true
   },
   "outputs": [
    {
     "name": "stdout",
     "output_type": "stream",
     "text": [
      "May 18, 2010, Primary Election Abstracts of Votes  * Indicates Passage or Nonpassage of Measure  \n",
      " 69 STATE MEASURE NO. 69  Amends Constitution: Continues And Modernizes Authority For Lowest Cost Borrowing For Community Colleges \n",
      "And Public Universities. \n",
      " County *Yes No \n",
      " Baker 2,511 1,612 \n",
      "Benton 15,424 3,825 \n",
      "Clackamas 50,652 18,982 \n",
      "Clatsop 6,935 2,532 \n",
      "\n",
      "Columbia 7,358 3,579 \n",
      "Coos 10,092 6,045 \n",
      "Crook 3,059 2,071 \n",
      "Curry 4,228 2,540 \n",
      "Deschutes 25,093 11,889 \n",
      "\n",
      "Douglas 15,407 10,217 \n",
      "Gilliam 436 181 \n",
      "Grant 1,139 825 \n",
      "Harney 1,238 906 \n",
      "Hood River 4,246 1,539 \n",
      "\n",
      "Jackson 26,102 11,495 \n",
      "Jefferson 2,721 1,527 \n",
      "Josephine 13,168 6,367 \n",
      "Klamath 9,643 6,012 \n",
      "Lake 1,212 962 \n",
      "\n",
      "Lane 59,630 22,301 \n",
      "Lincoln 8,264 2,924 \n",
      "Linn 14,705 8,038 \n",
      "Malheur 3,682 1,878 \n",
      "Marion 37,681 19,367 \n",
      "\n",
      "Morrow 1,474 778 \n",
      "Multnomah 105,000 21,753 \n",
      "Polk 11,713 5,007 \n",
      "Sherman 362 222 \n",
      "Tillamook 4,765 1,965 \n",
      "\n",
      "Umatilla 7,570 3,861 \n",
      "Union 4,000 2,128 \n",
      "Wallowa 1,519 832 \n",
      "Wasco 4,017 1,828 \n",
      "Washington 66,788 23,129 \n",
      "\n",
      "Wheeler 248 184 \n",
      "Yamhill 14,567 6,856 \n",
      " TOTAL 546,649 216,157 \n",
      "\n"
     ]
    }
   ],
   "source": [
    "print(pages[-1])"
   ]
  },
  {
   "cell_type": "code",
   "execution_count": 223,
   "metadata": {
    "collapsed": false,
    "deletable": true,
    "editable": true
   },
   "outputs": [],
   "source": [
    "def get_table_starts(p):\n",
    "    \"\"\" Return list of string indexes where tables begin\n",
    "        on given page (p).\n",
    "    \"\"\"\n",
    "    return [m.start() for m in re.finditer(r'County', pages[p])]"
   ]
  },
  {
   "cell_type": "code",
   "execution_count": 311,
   "metadata": {
    "collapsed": false
   },
   "outputs": [],
   "source": [
    "def get_column_lines(p, table_starts):\n",
    "    starts = [m.start() for m in re.finditer('Republican|Democrat', pages[p])]\n",
    "    n = len(starts)\n",
    "    lines = [pages[p][starts[i]:table_starts[i]].strip() if i < n-1\n",
    "            else pages[p][starts[i]:table_starts[i]].strip() for i in range(n)]\n",
    "#     return lines\n",
    "    all_cols = [re.search('(?<=Republican).*|(?<=Democrat).*', l).group().strip().split() for l in lines]\n",
    "    return [[c for c in cols if c not in ['Jr', 'Sr', 'III', 'IV', 'V', 'VI']]\n",
    "            for cols in all_cols]"
   ]
  },
  {
   "cell_type": "code",
   "execution_count": 312,
   "metadata": {
    "collapsed": false
   },
   "outputs": [
    {
     "data": {
      "text/plain": [
       "[['*Clem', 'Misc.'],\n",
       " ['*Sannes', 'Alamarez', 'Misc.'],\n",
       " ['*Komp', 'Misc.'],\n",
       " ['*LeCompte', 'Chereck', 'Misc.']]"
      ]
     },
     "execution_count": 312,
     "metadata": {},
     "output_type": "execute_result"
    }
   ],
   "source": [
    "get_column_lines(29, get_table_starts(29))"
   ]
  },
  {
   "cell_type": "code",
   "execution_count": 316,
   "metadata": {
    "collapsed": true
   },
   "outputs": [],
   "source": [
    "def get_table_titles(p):\n",
    "    titles = [l for l in pages[p].split('\\n') if re.search('Republican|Democrat', l)]\n",
    "    spans = []\n",
    "    for t in titles:\n",
    "        try:\n",
    "            spans.append(re.search('\\d+', t.strip()[:3]).span())\n",
    "        except:\n",
    "            spans.append(None)\n",
    "    titles = [t.strip()[s[1]:] if s else t for s,t in zip(spans, titles)]\n",
    "    return [re.match('(.*?)Democrat|(.*?)Republican', t)\\\n",
    "            .group().strip()\\\n",
    "            .replace(',', '')\\\n",
    "            .replace(' ', '_') for t in titles]"
   ]
  },
  {
   "cell_type": "code",
   "execution_count": 317,
   "metadata": {
    "collapsed": false
   },
   "outputs": [
    {
     "data": {
      "text/plain": [
       "['REPRESENTATIVE_IN_CONGRESS_5TH_DISTRICT_Democrat',\n",
       " 'REPRESENTATIVE_IN_CONGRESS_5TH_DISTRICT_Republican']"
      ]
     },
     "execution_count": 317,
     "metadata": {},
     "output_type": "execute_result"
    }
   ],
   "source": [
    "get_table_titles(6)"
   ]
  },
  {
   "cell_type": "code",
   "execution_count": 28,
   "metadata": {
    "collapsed": true,
    "deletable": true,
    "editable": true
   },
   "outputs": [],
   "source": [
    "def get_table_strings(p, idxs):\n",
    "    n = len(idxs)\n",
    "    return [pages[p][idxs[i]:idxs[i+1]-1].lstrip() if i < n-1\n",
    "            else pages[p][idxs[i]:].lstrip() for i in range(n)]"
   ]
  },
  {
   "cell_type": "code",
   "execution_count": 325,
   "metadata": {
    "collapsed": true,
    "deletable": true,
    "editable": true
   },
   "outputs": [],
   "source": [
    "def parse_tables(p):\n",
    "    idxs = get_table_starts(p)\n",
    "    strings = get_table_strings(p, idxs)\n",
    "    all_columns = get_column_lines(p, idxs)\n",
    "    dfs = []\n",
    "    # iterate over table strings on current page (p)\n",
    "    for s,cols in zip(strings, all_columns):\n",
    "        # convert table string to line strings\n",
    "        lines = [l.strip() for l in re.sub('\\n\\s*(?=\\d)', ' ', s).split('\\n') if l != '']\n",
    "        lines = [re.sub('\\s{2,}', ' ', l) for l in lines]\n",
    "        # get first and last row line numbers\n",
    "        first_row_line = [i for i,l in enumerate(lines) if l.startswith('County')][0] + 1\n",
    "        last_row_line = [i for i,l in enumerate(lines) if l.startswith('TOTAL')][0]\n",
    "        # parse rows from line strings\n",
    "        rows = [re.sub('(?!\\d), (?=\\d)', '', r) for r in lines[first_row_line:last_row_line+1]]\n",
    "        rows = [re.sub('\\s+(?=\\D)', '-', l).replace(',', '').split(' ') for l in rows]\n",
    "        # convert numeric elements to int\n",
    "        rows = [[int(el) if el.isdigit() else el for el in r] for r in rows]\n",
    "        dfs.append(DF(rows, columns=['County'] + cols))\n",
    "    return dfs"
   ]
  },
  {
   "cell_type": "code",
   "execution_count": 334,
   "metadata": {
    "collapsed": false
   },
   "outputs": [],
   "source": [
    "dfs = parse_tables(5)"
   ]
  },
  {
   "cell_type": "code",
   "execution_count": 335,
   "metadata": {
    "collapsed": false
   },
   "outputs": [
    {
     "data": {
      "text/html": [
       "<div>\n",
       "<style>\n",
       "    .dataframe thead tr:only-child th {\n",
       "        text-align: right;\n",
       "    }\n",
       "\n",
       "    .dataframe thead th {\n",
       "        text-align: left;\n",
       "    }\n",
       "\n",
       "    .dataframe tbody tr th {\n",
       "        vertical-align: top;\n",
       "    }\n",
       "</style>\n",
       "<table border=\"1\" class=\"dataframe\">\n",
       "  <thead>\n",
       "    <tr style=\"text-align: right;\">\n",
       "      <th></th>\n",
       "      <th>County</th>\n",
       "      <th>*DeFazio</th>\n",
       "      <th>Misc.</th>\n",
       "    </tr>\n",
       "  </thead>\n",
       "  <tbody>\n",
       "    <tr>\n",
       "      <th>0</th>\n",
       "      <td>Benton</td>\n",
       "      <td>7031</td>\n",
       "      <td>85</td>\n",
       "    </tr>\n",
       "    <tr>\n",
       "      <th>1</th>\n",
       "      <td>Coos</td>\n",
       "      <td>6674</td>\n",
       "      <td>218</td>\n",
       "    </tr>\n",
       "    <tr>\n",
       "      <th>2</th>\n",
       "      <td>Curry</td>\n",
       "      <td>2270</td>\n",
       "      <td>109</td>\n",
       "    </tr>\n",
       "    <tr>\n",
       "      <th>3</th>\n",
       "      <td>Douglas</td>\n",
       "      <td>8196</td>\n",
       "      <td>368</td>\n",
       "    </tr>\n",
       "    <tr>\n",
       "      <th>4</th>\n",
       "      <td>Josephine</td>\n",
       "      <td>2180</td>\n",
       "      <td>100</td>\n",
       "    </tr>\n",
       "    <tr>\n",
       "      <th>5</th>\n",
       "      <td>Lane</td>\n",
       "      <td>40337</td>\n",
       "      <td>626</td>\n",
       "    </tr>\n",
       "    <tr>\n",
       "      <th>6</th>\n",
       "      <td>Linn</td>\n",
       "      <td>7880</td>\n",
       "      <td>171</td>\n",
       "    </tr>\n",
       "    <tr>\n",
       "      <th>7</th>\n",
       "      <td>TOTAL</td>\n",
       "      <td>74568</td>\n",
       "      <td>1677</td>\n",
       "    </tr>\n",
       "  </tbody>\n",
       "</table>\n",
       "</div>"
      ],
      "text/plain": [
       "      County  *DeFazio  Misc.\n",
       "0     Benton      7031     85\n",
       "1       Coos      6674    218\n",
       "2      Curry      2270    109\n",
       "3    Douglas      8196    368\n",
       "4  Josephine      2180    100\n",
       "5       Lane     40337    626\n",
       "6       Linn      7880    171\n",
       "7      TOTAL     74568   1677"
      ]
     },
     "metadata": {},
     "output_type": "display_data"
    },
    {
     "data": {
      "text/html": [
       "<div>\n",
       "<style>\n",
       "    .dataframe thead tr:only-child th {\n",
       "        text-align: right;\n",
       "    }\n",
       "\n",
       "    .dataframe thead th {\n",
       "        text-align: left;\n",
       "    }\n",
       "\n",
       "    .dataframe tbody tr th {\n",
       "        vertical-align: top;\n",
       "    }\n",
       "</style>\n",
       "<table border=\"1\" class=\"dataframe\">\n",
       "  <thead>\n",
       "    <tr style=\"text-align: right;\">\n",
       "      <th></th>\n",
       "      <th>County</th>\n",
       "      <th>Germond</th>\n",
       "      <th>*Robinson</th>\n",
       "      <th>Misc.</th>\n",
       "    </tr>\n",
       "  </thead>\n",
       "  <tbody>\n",
       "    <tr>\n",
       "      <th>0</th>\n",
       "      <td>Benton</td>\n",
       "      <td>720</td>\n",
       "      <td>2701</td>\n",
       "      <td>34</td>\n",
       "    </tr>\n",
       "    <tr>\n",
       "      <th>1</th>\n",
       "      <td>Coos</td>\n",
       "      <td>1290</td>\n",
       "      <td>4782</td>\n",
       "      <td>48</td>\n",
       "    </tr>\n",
       "    <tr>\n",
       "      <th>2</th>\n",
       "      <td>Curry</td>\n",
       "      <td>423</td>\n",
       "      <td>2497</td>\n",
       "      <td>29</td>\n",
       "    </tr>\n",
       "    <tr>\n",
       "      <th>3</th>\n",
       "      <td>Douglas</td>\n",
       "      <td>2627</td>\n",
       "      <td>10874</td>\n",
       "      <td>83</td>\n",
       "    </tr>\n",
       "    <tr>\n",
       "      <th>4</th>\n",
       "      <td>Josephine</td>\n",
       "      <td>517</td>\n",
       "      <td>2536</td>\n",
       "      <td>16</td>\n",
       "    </tr>\n",
       "    <tr>\n",
       "      <th>5</th>\n",
       "      <td>Lane</td>\n",
       "      <td>5004</td>\n",
       "      <td>18276</td>\n",
       "      <td>254</td>\n",
       "    </tr>\n",
       "    <tr>\n",
       "      <th>6</th>\n",
       "      <td>Linn</td>\n",
       "      <td>1914</td>\n",
       "      <td>7735</td>\n",
       "      <td>48</td>\n",
       "    </tr>\n",
       "    <tr>\n",
       "      <th>7</th>\n",
       "      <td>TOTAL</td>\n",
       "      <td>12495</td>\n",
       "      <td>49401</td>\n",
       "      <td>512</td>\n",
       "    </tr>\n",
       "  </tbody>\n",
       "</table>\n",
       "</div>"
      ],
      "text/plain": [
       "      County  Germond  *Robinson  Misc.\n",
       "0     Benton      720       2701     34\n",
       "1       Coos     1290       4782     48\n",
       "2      Curry      423       2497     29\n",
       "3    Douglas     2627      10874     83\n",
       "4  Josephine      517       2536     16\n",
       "5       Lane     5004      18276    254\n",
       "6       Linn     1914       7735     48\n",
       "7      TOTAL    12495      49401    512"
      ]
     },
     "metadata": {},
     "output_type": "display_data"
    }
   ],
   "source": [
    "for df in dfs:\n",
    "    display(df)"
   ]
  },
  {
   "cell_type": "code",
   "execution_count": null,
   "metadata": {
    "collapsed": true
   },
   "outputs": [],
   "source": [
    "dfs[]"
   ]
  },
  {
   "cell_type": "code",
   "execution_count": 215,
   "metadata": {
    "collapsed": false,
    "deletable": true,
    "editable": true
   },
   "outputs": [],
   "source": [
    "idxs = get_table_starts(1)\n",
    "strings = get_table_strings(1, idxs)Crown"
   ]
  },
  {
   "cell_type": "code",
   "execution_count": 216,
   "metadata": {
    "collapsed": false,
    "deletable": true,
    "editable": true
   },
   "outputs": [],
   "source": [
    "lines = [l.strip() for l in re.sub('\\n\\s*(?=\\d)', ' ', strings[0]).split('\\n') if l != '']\n",
    "lines = [re.sub('\\s{2,}', ' ', l) for l in lines]\n",
    "last_col_line = [i for i,l in enumerate(lines) if l.startswith('County')][0]\n",
    "last_row_line = [i for i,l in enumerate(lines) if l.startswith('TOTAL')][0]\n",
    "rows = [re.sub('(?!\\d), (?=\\d)', '', r) for r in lines[last_col_line+1:last_row_line+1]]\n",
    "rows = [re.sub('\\s+(?=\\D)', '-', l).replace(',', '').split(' ') for l in rows]\n",
    "# convert numeric elements to int\n",
    "rows = [[int(el) if el.isdigit() else el for el in r] for r in rows]\n",
    "columns = [l.strip('County ') for l in lines[:last_col_line+1]]"
   ]
  },
  {
   "cell_type": "code",
   "execution_count": 219,
   "metadata": {
    "collapsed": false
   },
   "outputs": [
    {
     "name": "stdout",
     "output_type": "stream",
     "text": [
      "May 18, 2010, Primary Election Abstracts of Votes * Nominee \n",
      "** Elected WI = Write In\n",
      " 2UNITED STATES SENATOR Republican  Stutzman Parker Later Dinkel \n",
      "*Huffman Woodland Waldron Misc. \n",
      "County Tom Robin S Loren G Shane Jim Walter H       Keith  \n",
      "Baker 235 106 375 364 587 32 245 18 \n",
      "Benton 797 268 919 702 2,207 86 431 51 \n",
      "Clackamas 2,940 1,281 3,590\n",
      " 3,054 13,624 382 2,582 162 \n",
      "Clatsop 345 199 302 276 1,044 45 259 45 \n",
      "Columbia 383 171 485 568 1,555 66 238 43 \n",
      "Coos 843 466 979 830 1,773 128 598 56 \n",
      "\n",
      "Crook 255 122 329 441 894 60 332 28 \n",
      "Curry 339 188 516 539 746 55 258 33 \n",
      "Deschutes 1,053 813 2,161 2,103 6,677 189 1,264 107 \n",
      "Douglas 1,362 652 1,983 1,901 4,784 208 1,314 113 \n",
      "Gilliam 20 12 22 28 171 0 11 1 \n",
      "\n",
      "Grant 90 41 93 209 590 18 81 14 \n",
      "Harney 147 71 184 212 280 15 153 19 \n",
      "Hood River 201 104 148 164 574 21 122 11 \n",
      "Jackson 1,429 925 3,549 2,838 5,250 251 1,603 106 \n",
      "Jefferson 116 67 144 297 1,168 34 121  9 \n",
      "\n",
      "Josephine 890 570 1,568 1,661 2,535 192 1,075 102 \n",
      "Klamath 640 501 1,419 1,236 1,978 145 1,005 53 \n",
      "Lake 195 90 215 203 241 19 187  8 \n",
      "Lane 2,590 1,385 3,358 3,372 9,528 517 1,396 241 \n",
      "Lincoln 554 241 526 481 1,287 60 264 36 \n",
      "\n",
      "Linn 2,074 504 1,622 1,229 3,234 141 753 44 \n",
      "Malheur 313 165 441 671 730 42 405 17 \n",
      "Marion 3,562 1,283 3,153 2,972 9,140 386 2,107 195 \n",
      "Morrow 155 56 128 147 271 31 105 10 \n",
      "Multnomah 2,739 1,202 2,826 2,459 12,215 386 2,128 304 \n",
      "\n",
      "Polk 1,173 339 978 887 2,713 110 691 32 \n",
      "Sherman 27 11 27 18 202 2 20  4 \n",
      "Tillamook 286 118 283 266 904 42 253 28 \n",
      "Umatilla 515 295 683 817 1,437 87 723 53 \n",
      "Union 367 157 395 508 1,047 42 333 42 \n",
      "\n",
      "Wallowa 95 59 148 328 326 27 193 22 \n",
      "Wasco 169 81 137 158 1,362 24 148 17 \n",
      "Washington 3,512 1,586 4,894\n",
      " 3,564 15,615 428 2,450 261 \n",
      "Wheeler 20 10 15 19 101 2 26  7 \n",
      "Yamhill 1,428 498 1,158 1,238 3,660 144 728 71 \n",
      " TOTAL 31,859 14,637 39,753 36,760 110,\n",
      "450 4,417   24,602   2,363 \n",
      "\n"
     ]
    }
   ],
   "source": [
    "print(pages[1])"
   ]
  },
  {
   "cell_type": "code",
   "execution_count": 218,
   "metadata": {
    "collapsed": false
   },
   "outputs": [
    {
     "data": {
      "text/plain": [
       "['County Tom Robin S Loren G Shane Jim Walter H Keith',\n",
       " 'Baker 235 106 375 364 587 32 245 18',\n",
       " 'Benton 797 268 919 702 2,207 86 431 51',\n",
       " 'Clackamas 2,940 1,281 3,590 3,054 13,624 382 2,582 162',\n",
       " 'Clatsop 345 199 302 276 1,044 45 259 45',\n",
       " 'Columbia 383 171 485 568 1,555 66 238 43',\n",
       " 'Coos 843 466 979 830 1,773 128 598 56',\n",
       " 'Crook 255 122 329 441 894 60 332 28',\n",
       " 'Curry 339 188 516 539 746 55 258 33',\n",
       " 'Deschutes 1,053 813 2,161 2,103 6,677 189 1,264 107',\n",
       " 'Douglas 1,362 652 1,983 1,901 4,784 208 1,314 113',\n",
       " 'Gilliam 20 12 22 28 171 0 11 1',\n",
       " 'Grant 90 41 93 209 590 18 81 14',\n",
       " 'Harney 147 71 184 212 280 15 153 19',\n",
       " 'Hood River 201 104 148 164 574 21 122 11',\n",
       " 'Jackson 1,429 925 3,549 2,838 5,250 251 1,603 106',\n",
       " 'Jefferson 116 67 144 297 1,168 34 121 9',\n",
       " 'Josephine 890 570 1,568 1,661 2,535 192 1,075 102',\n",
       " 'Klamath 640 501 1,419 1,236 1,978 145 1,005 53',\n",
       " 'Lake 195 90 215 203 241 19 187 8',\n",
       " 'Lane 2,590 1,385 3,358 3,372 9,528 517 1,396 241',\n",
       " 'Lincoln 554 241 526 481 1,287 60 264 36',\n",
       " 'Linn 2,074 504 1,622 1,229 3,234 141 753 44',\n",
       " 'Malheur 313 165 441 671 730 42 405 17',\n",
       " 'Marion 3,562 1,283 3,153 2,972 9,140 386 2,107 195',\n",
       " 'Morrow 155 56 128 147 271 31 105 10',\n",
       " 'Multnomah 2,739 1,202 2,826 2,459 12,215 386 2,128 304',\n",
       " 'Polk 1,173 339 978 887 2,713 110 691 32',\n",
       " 'Sherman 27 11 27 18 202 2 20 4',\n",
       " 'Tillamook 286 118 283 266 904 42 253 28',\n",
       " 'Umatilla 515 295 683 817 1,437 87 723 53',\n",
       " 'Union 367 157 395 508 1,047 42 333 42',\n",
       " 'Wallowa 95 59 148 328 326 27 193 22',\n",
       " 'Wasco 169 81 137 158 1,362 24 148 17',\n",
       " 'Washington 3,512 1,586 4,894 3,564 15,615 428 2,450 261',\n",
       " 'Wheeler 20 10 15 19 101 2 26 7',\n",
       " 'Yamhill 1,428 498 1,158 1,238 3,660 144 728 71',\n",
       " 'TOTAL 31,859 14,637 39,753 36,760 110, 450 4,417 24,602 2,363']"
      ]
     },
     "execution_count": 218,
     "metadata": {},
     "output_type": "execute_result"
    }
   ],
   "source": [
    "lines"
   ]
  },
  {
   "cell_type": "code",
   "execution_count": 15,
   "metadata": {
    "collapsed": false,
    "deletable": true,
    "editable": true
   },
   "outputs": [
    {
     "name": "stdout",
     "output_type": "stream",
     "text": [
      "Stutzman Parker Later Dinkel \n",
      "*Huffman Woodland Waldron Misc. \n",
      "County Tom Robin S Loren G Shane Jim Walter H       Keith  \n",
      "Baker 235 106 375 364 587 32 245 18 \n",
      "Benton 797 268 919 702 2,207 86 431 51 \n",
      "Clackamas 2,940 1,281 3,590\n",
      " 3,054 13,624 382 2,582 162 \n",
      "Clatsop 345 199 302 276 1,044 45 259 45 \n",
      "Columbia 383 171 485 568 1,555 66 238 43 \n",
      "Coos 843 466 979 830 1,773 128 598 56 \n",
      "\n",
      "Crook 255 122 329 441 894 60 332 28 \n",
      "Curry 339 188 516 539 746 55 258 33 \n",
      "Deschutes 1,053 813 2,161 2,103 6,677 189 1,264 107 \n",
      "Douglas 1,362 652 1,983 1,901 4,784 208 1,314 113 \n",
      "Gilliam 20 12 22 28 171 0 11 1 \n",
      "\n",
      "Grant 90 41 93 209 590 18 81 14 \n",
      "Harney 147 71 184 212 280 15 153 19 \n",
      "Hood River 201 104 148 164 574 21 122 11 \n",
      "Jackson 1,429 925 3,549 2,838 5,250 251 1,603 106 \n",
      "Jefferson 116 67 144 297 1,168 34 121  9 \n",
      "\n",
      "Josephine 890 570 1,568 1,661 2,535 192 1,075 102 \n",
      "Klamath 640 501 1,419 1,236 1,978 145 1,005 53 \n",
      "Lake 195 90 215 203 241 19 187  8 \n",
      "Lane 2,590 1,385 3,358 3,372 9,528 517 1,396 241 \n",
      "Lincoln 554 241 526 481 1,287 60 264 36 \n",
      "\n",
      "Linn 2,074 504 1,622 1,229 3,234 141 753 44 \n",
      "Malheur 313 165 441 671 730 42 405 17 \n",
      "Marion 3,562 1,283 3,153 2,972 9,140 386 2,107 195 \n",
      "Morrow 155 56 128 147 271 31 105 10 \n",
      "Multnomah 2,739 1,202 2,826 2,459 12,215 386 2,128 304 \n",
      "\n",
      "Polk 1,173 339 978 887 2,713 110 691 32 \n",
      "Sherman 27 11 27 18 202 2 20  4 \n",
      "Tillamook 286 118 283 266 904 42 253 28 \n",
      "Umatilla 515 295 683 817 1,437 87 723 53 \n",
      "Union 367 157 395 508 1,047 42 333 42 \n",
      "\n",
      "Wallowa 95 59 148 328 326 27 193 22 \n",
      "Wasco 169 81 137 158 1,362 24 148 17 \n",
      "Washington 3,512 1,586 4,894\n",
      " 3,564 15,615 428 2,450 261 \n",
      "Wheeler 20 10 15 19 101 2 26  7 \n",
      "Yamhill 1,428 498 1,158 1,238 3,660 144 728 71 \n",
      " TOTAL 31,859 14,637 39,753 36,760 110,\n",
      "450 4,417   24,602   2,363 \n",
      "\n"
     ]
    }
   ],
   "source": [
    "print(strings[0])"
   ]
  }
 ],
 "metadata": {
  "kernelspec": {
   "display_name": "Python 3",
   "language": "python",
   "name": "python3"
  },
  "language_info": {
   "codemirror_mode": {
    "name": "ipython",
    "version": 3
   },
   "file_extension": ".py",
   "mimetype": "text/x-python",
   "name": "python",
   "nbconvert_exporter": "python",
   "pygments_lexer": "ipython3",
   "version": "3.4.5"
  }
 },
 "nbformat": 4,
 "nbformat_minor": 2
}
