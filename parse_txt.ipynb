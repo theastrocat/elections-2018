{
 "cells": [
  {
   "cell_type": "markdown",
   "metadata": {
    "deletable": true,
    "editable": true
   },
   "source": [
    "# Parse Txt"
   ]
  },
  {
   "cell_type": "code",
   "execution_count": 1,
   "metadata": {
    "collapsed": true,
    "deletable": true,
    "editable": true
   },
   "outputs": [],
   "source": [
    "import PyPDF2 as pydf\n",
    "import pandas as pd\n",
    "from pandas import DataFrame as DF, Series\n",
    "import numpy as np\n",
    "import re"
   ]
  },
  {
   "cell_type": "code",
   "execution_count": 2,
   "metadata": {
    "collapsed": false,
    "deletable": true,
    "editable": true
   },
   "outputs": [],
   "source": [
    "path = 'results-5-2010.pdf'\n",
    "pdf = open(path, 'rb')"
   ]
  },
  {
   "cell_type": "code",
   "execution_count": 3,
   "metadata": {
    "collapsed": false,
    "deletable": true,
    "editable": true
   },
   "outputs": [],
   "source": [
    "reader = pydf.PdfFileReader(pdf)"
   ]
  },
  {
   "cell_type": "code",
   "execution_count": 32,
   "metadata": {
    "collapsed": false,
    "deletable": true,
    "editable": true
   },
   "outputs": [],
   "source": [
    "page = reader.getPage(1)"
   ]
  },
  {
   "cell_type": "code",
   "execution_count": 33,
   "metadata": {
    "collapsed": false,
    "deletable": true,
    "editable": true,
    "scrolled": true
   },
   "outputs": [
    {
     "name": "stdout",
     "output_type": "stream",
     "text": [
      "May 18, 2010, Primary Election Abstracts of Votes * Nominee \n",
      "** Elected WI = Write In\n",
      " 2UNITED STATES SENATOR Republican  Stutzman Parker Later Dinkel \n",
      "*Huffman Woodland Waldron Misc. \n",
      "County Tom Robin S Loren G Shane Jim Walter H       Keith  \n",
      "Baker 235 106 375 364 587 32 245 18 \n",
      "Benton 797 268 919 702 2,207 86 431 51 \n",
      "Clackamas 2,940 1,281 3,590\n",
      " 3,054 13,624 382 2,582 162 \n",
      "Clatsop 345 199 302 276 1,044 45 259 45 \n",
      "Columbia 383 171 485 568 1,555 66 238 43 \n",
      "Coos 843 466 979 830 1,773 128 598 56 \n",
      "\n",
      "Crook 255 122 329 441 894 60 332 28 \n",
      "Curry 339 188 516 539 746 55 258 33 \n",
      "Deschutes 1,053 813 2,161 2,103 6,677 189 1,264 107 \n",
      "Douglas 1,362 652 1,983 1,901 4,784 208 1,314 113 \n",
      "Gilliam 20 12 22 28 171 0 11 1 \n",
      "\n",
      "Grant 90 41 93 209 590 18 81 14 \n",
      "Harney 147 71 184 212 280 15 153 19 \n",
      "Hood River 201 104 148 164 574 21 122 11 \n",
      "Jackson 1,429 925 3,549 2,838 5,250 251 1,603 106 \n",
      "Jefferson 116 67 144 297 1,168 34 121  9 \n",
      "\n",
      "Josephine 890 570 1,568 1,661 2,535 192 1,075 102 \n",
      "Klamath 640 501 1,419 1,236 1,978 145 1,005 53 \n",
      "Lake 195 90 215 203 241 19 187  8 \n",
      "Lane 2,590 1,385 3,358 3,372 9,528 517 1,396 241 \n",
      "Lincoln 554 241 526 481 1,287 60 264 36 \n",
      "\n",
      "Linn 2,074 504 1,622 1,229 3,234 141 753 44 \n",
      "Malheur 313 165 441 671 730 42 405 17 \n",
      "Marion 3,562 1,283 3,153 2,972 9,140 386 2,107 195 \n",
      "Morrow 155 56 128 147 271 31 105 10 \n",
      "Multnomah 2,739 1,202 2,826 2,459 12,215 386 2,128 304 \n",
      "\n",
      "Polk 1,173 339 978 887 2,713 110 691 32 \n",
      "Sherman 27 11 27 18 202 2 20  4 \n",
      "Tillamook 286 118 283 266 904 42 253 28 \n",
      "Umatilla 515 295 683 817 1,437 87 723 53 \n",
      "Union 367 157 395 508 1,047 42 333 42 \n",
      "\n",
      "Wallowa 95 59 148 328 326 27 193 22 \n",
      "Wasco 169 81 137 158 1,362 24 148 17 \n",
      "Washington 3,512 1,586 4,894\n",
      " 3,564 15,615 428 2,450 261 \n",
      "Wheeler 20 10 15 19 101 2 26  7 \n",
      "Yamhill 1,428 498 1,158 1,238 3,660 144 728 71 \n",
      " TOTAL 31,859 14,637 39,753 36,760 110,\n",
      "450 4,417   24,602   2,363 \n",
      "\n"
     ]
    }
   ],
   "source": [
    "print(page.extractText())"
   ]
  },
  {
   "cell_type": "code",
   "execution_count": 6,
   "metadata": {
    "collapsed": true,
    "deletable": true,
    "editable": true
   },
   "outputs": [],
   "source": [
    "pages = []\n",
    "for i in range(reader.numPages):\n",
    "    pages.append(reader.getPage(i).extractText())"
   ]
  },
  {
   "cell_type": "code",
   "execution_count": null,
   "metadata": {
    "collapsed": true
   },
   "outputs": [],
   "source": [
    "re.findall('Write')"
   ]
  },
  {
   "cell_type": "code",
   "execution_count": 26,
   "metadata": {
    "collapsed": false
   },
   "outputs": [
    {
     "data": {
      "text/plain": [
       "[165, 438]"
      ]
     },
     "execution_count": 26,
     "metadata": {},
     "output_type": "execute_result"
    }
   ],
   "source": [
    "[m.span()[1] for m in re.finditer('County', pages[2])]"
   ]
  },
  {
   "cell_type": "code",
   "execution_count": 174,
   "metadata": {
    "collapsed": false,
    "scrolled": true
   },
   "outputs": [
    {
     "name": "stdout",
     "output_type": "stream",
     "text": [
      "May 18, 2010, Primary Election Abstracts of Votes  * Indicates Passage or Nonpassage of Measure  \n",
      " 69 STATE MEASURE NO. 69  Amends Constitution: Continues And Modernizes Authority For Lowest Cost Borrowing For Community Colleges \n",
      "And Public Universities. \n",
      " County *Yes No \n",
      " Baker 2,511 1,612 \n",
      "Benton 15,424 3,825 \n",
      "Clackamas 50,652 18,982 \n",
      "Clatsop 6,935 2,532 \n",
      "\n",
      "Columbia 7,358 3,579 \n",
      "Coos 10,092 6,045 \n",
      "Crook 3,059 2,071 \n",
      "Curry 4,228 2,540 \n",
      "Deschutes 25,093 11,889 \n",
      "\n",
      "Douglas 15,407 10,217 \n",
      "Gilliam 436 181 \n",
      "Grant 1,139 825 \n",
      "Harney 1,238 906 \n",
      "Hood River 4,246 1,539 \n",
      "\n",
      "Jackson 26,102 11,495 \n",
      "Jefferson 2,721 1,527 \n",
      "Josephine 13,168 6,367 \n",
      "Klamath 9,643 6,012 \n",
      "Lake 1,212 962 \n",
      "\n",
      "Lane 59,630 22,301 \n",
      "Lincoln 8,264 2,924 \n",
      "Linn 14,705 8,038 \n",
      "Malheur 3,682 1,878 \n",
      "Marion 37,681 19,367 \n",
      "\n",
      "Morrow 1,474 778 \n",
      "Multnomah 105,000 21,753 \n",
      "Polk 11,713 5,007 \n",
      "Sherman 362 222 \n",
      "Tillamook 4,765 1,965 \n",
      "\n",
      "Umatilla 7,570 3,861 \n",
      "Union 4,000 2,128 \n",
      "Wallowa 1,519 832 \n",
      "Wasco 4,017 1,828 \n",
      "Washington 66,788 23,129 \n",
      "\n",
      "Wheeler 248 184 \n",
      "Yamhill 14,567 6,856 \n",
      " TOTAL 546,649 216,157 \n",
      "\n"
     ]
    }
   ],
   "source": [
    "print(pages[-1])"
   ]
  },
  {
   "cell_type": "code",
   "execution_count": 223,
   "metadata": {
    "collapsed": false,
    "deletable": true,
    "editable": true
   },
   "outputs": [],
   "source": [
    "def get_table_starts(p):\n",
    "    \"\"\" Return list of string indexes where tables begin\n",
    "        on given page (p).\n",
    "    \"\"\"\n",
    "    return [m.start() for m in re.finditer(r'County', pages[p])]"
   ]
  },
  {
   "cell_type": "code",
   "execution_count": null,
   "metadata": {
    "collapsed": true
   },
   "outputs": [],
   "source": []
  },
  {
   "cell_type": "code",
   "execution_count": 311,
   "metadata": {
    "collapsed": false
   },
   "outputs": [],
   "source": [
    "def get_column_lines(p, table_starts):\n",
    "    starts = [m.start() for m in re.finditer('Republican|Democrat', pages[p])]\n",
    "    n = len(starts)\n",
    "    lines = [pages[p][starts[i]:table_starts[i]].strip() if i < n-1\n",
    "            else pages[p][starts[i]:table_starts[i]].strip() for i in range(n)]\n",
    "#     return lines\n",
    "    all_cols = [re.search('(?<=Republican).*|(?<=Democrat).*', l).group().strip().split() for l in lines]\n",
    "    return [[c for c in cols if c not in ['Jr', 'Sr', 'III', 'IV', 'V', 'VI']]\n",
    "            for cols in all_cols]"
   ]
  },
  {
   "cell_type": "code",
   "execution_count": 312,
   "metadata": {
    "collapsed": false
   },
   "outputs": [
    {
     "data": {
      "text/plain": [
       "[['*Clem', 'Misc.'],\n",
       " ['*Sannes', 'Alamarez', 'Misc.'],\n",
       " ['*Komp', 'Misc.'],\n",
       " ['*LeCompte', 'Chereck', 'Misc.']]"
      ]
     },
     "execution_count": 312,
     "metadata": {},
     "output_type": "execute_result"
    }
   ],
   "source": [
    "get_column_lines(29, get_table_starts(29))"
   ]
  },
  {
   "cell_type": "code",
   "execution_count": 180,
   "metadata": {
    "collapsed": true
   },
   "outputs": [],
   "source": [
    "def get_table_titles(p):\n",
    "    titles = [l for l in pages[p].split('\\n') if re.search('Republican|Democrat', l)]\n",
    "    spans = []\n",
    "    for t in titles:\n",
    "        try:\n",
    "            spans.append(re.search('\\d+', t.strip()[:3]).span())\n",
    "        except:\n",
    "            spans.append(None)\n",
    "    titles = [t.strip()[s[1]:] if s else t for s,t in zip(spans, titles)]\n",
    "    return [re.match('(.*?)Democrat|(.*?)Republican', t).group().strip() for t in titles]"
   ]
  },
  {
   "cell_type": "code",
   "execution_count": 203,
   "metadata": {
    "collapsed": false
   },
   "outputs": [
    {
     "data": {
      "text/plain": [
       "['REPRESENTATIVE IN CONGRESS, 5TH DISTRICT Democrat',\n",
       " 'REPRESENTATIVE IN CONGRESS, 5TH DISTRICT Republican']"
      ]
     },
     "execution_count": 203,
     "metadata": {},
     "output_type": "execute_result"
    }
   ],
   "source": [
    "get_table_titles(6)"
   ]
  },
  {
   "cell_type": "code",
   "execution_count": 209,
   "metadata": {
    "collapsed": false
   },
   "outputs": [
    {
     "name": "stdout",
     "output_type": "stream",
     "text": [
      "May 18, 2010, Primary Election Abstracts of Votes * Nominee \n",
      "** Elected WI = Write In\n",
      " 8GOVERNOR \n",
      "Democrat  Obrist *Kitzhaber Bradbury Misc. \n",
      "County Roger John Bill  \n",
      " Baker 139 828 436 45 \n",
      "\n",
      "Benton 274 7,877 2,829 79 \n",
      "Clackamas 1,731 21,543 10,841 490 \n",
      "Clatsop 221 2,976 1,643 70 \n",
      "Columbia 394 3,700 1,876 130 \n",
      "Coos 736 3,899 2,855 169 \n",
      "\n",
      "Crook 141 977 453 85 \n",
      "Curry 158 1,241 1,044 75 \n",
      "Deschutes 654 9,836 3,181 205 \n",
      "Douglas 782 5,924 2,730 248 \n",
      "Gilliam 11 170 51 5 \n",
      "\n",
      "Grant 52 272 179 61 \n",
      "Harney 60 317 192 57 \n",
      "Hood River 88 1,880 851 25 \n",
      "Jackson 635 11,437 4,321 155 \n",
      "Jefferson 92 1,053 472 38 \n",
      "\n",
      "Josephine 338 4,269 2,040 176 \n",
      "Klamath 407 2,480 1,528 113 \n",
      "Lake 59 300 179 15 \n",
      "Lane 1,529 30,460 10,962 520 \n",
      "Lincoln 264 4,093 1,844 99 \n",
      "\n",
      "Linn 668 5,775 2,372 241 \n",
      "Malheur 90 772 441 39 \n",
      "Marion 1,111 16,256 6,427 465 \n",
      "Morrow 64 376 233 29 \n",
      "Multnomah 2,274 57,880 28,475 797 \n",
      "\n",
      "Polk 282 4,554 1,953 81 \n",
      "Sherman 14 110 57 25 \n",
      "Tillamook 174 2,166 969 69 \n",
      "Umatilla 293 2,165 1,101 74 \n",
      "Union 142 1,401 570 56 \n",
      "\n",
      "Wallowa 41 463 223 27 \n",
      "Wasco 182 1,752 775 65 \n",
      "Washington 1,492 27,908 13,502 468 \n",
      "Wheeler 10 110 41 17 \n",
      "Yamhill 455 5,325 2,652 191 \n",
      " TOTAL 16,057 242,545 110,298 5,504 \n",
      "\n"
     ]
    }
   ],
   "source": [
    "print(pages[7])"
   ]
  },
  {
   "cell_type": "code",
   "execution_count": 28,
   "metadata": {
    "collapsed": true,
    "deletable": true,
    "editable": true
   },
   "outputs": [],
   "source": [
    "def get_table_strings(p, idxs):\n",
    "    n = len(idxs)\n",
    "    return [pages[p][idxs[i]:idxs[i+1]-1].lstrip() if i < n-1\n",
    "            else pages[p][idxs[i]:].lstrip() for i in range(n)]"
   ]
  },
  {
   "cell_type": "code",
   "execution_count": null,
   "metadata": {
    "collapsed": true,
    "deletable": true,
    "editable": true
   },
   "outputs": [],
   "source": [
    "def parse_tables(p, strings):\n",
    "    idxs = get_table_starts(p)\n",
    "    strings = get_table_strings(p, idxs)\n",
    "    # iterate over table strings on current page (p)\n",
    "    for s in strings:\n",
    "        # convert table string to line strings\n",
    "        lines = [l.strip() for l in re.sub('\\n\\s*(?=\\d)', ' ', s).split('\\n') if l != '']\n",
    "        lines = [re.sub('\\s{2,}', ' ', l) for l in lines]\n",
    "        # get first and last row line numbers\n",
    "        first_row_line = [i for i,l in enumerate(lines) if l.startswith('County')][0] + 1\n",
    "        last_row_line = [i for i,l in enumerate(lines) if l.startswith('TOTAL')][0]\n",
    "        # parse rows from line strings\n",
    "        rows = [re.sub('(?!\\d), (?=\\d)', '', r) for r in lines[first_row_line:last_row_line+1]]\n",
    "        rows = [re.sub('\\s+(?=\\D)', '-', l).replace(',', '').split(' ') for l in rows]\n",
    "        # convert numeric elements to int\n",
    "        rows = [[int(el) if el.isdigit() else el for el in r] for r in rows]\n",
    "        # get column names: no consistent patterns; needs manual work\n",
    "        columns = [l.strip('County ') for l in lines[:first_row_line]]\n",
    "        # create DataFrame from rows\n",
    "        # use only last names for column names\n",
    "        cols = columns[0].split()\n",
    "        DF(rows, columns=cols).to_csv(path, index=False)"
   ]
  },
  {
   "cell_type": "code",
   "execution_count": 215,
   "metadata": {
    "collapsed": false,
    "deletable": true,
    "editable": true
   },
   "outputs": [],
   "source": [
    "idxs = get_table_starts(1)\n",
    "strings = get_table_strings(1, idxs)Crown"
   ]
  },
  {
   "cell_type": "code",
   "execution_count": 216,
   "metadata": {
    "collapsed": false,
    "deletable": true,
    "editable": true
   },
   "outputs": [],
   "source": [
    "lines = [l.strip() for l in re.sub('\\n\\s*(?=\\d)', ' ', strings[0]).split('\\n') if l != '']\n",
    "lines = [re.sub('\\s{2,}', ' ', l) for l in lines]\n",
    "last_col_line = [i for i,l in enumerate(lines) if l.startswith('County')][0]\n",
    "last_row_line = [i for i,l in enumerate(lines) if l.startswith('TOTAL')][0]\n",
    "rows = [re.sub('(?!\\d), (?=\\d)', '', r) for r in lines[last_col_line+1:last_row_line+1]]\n",
    "rows = [re.sub('\\s+(?=\\D)', '-', l).replace(',', '').split(' ') for l in rows]\n",
    "# convert numeric elements to int\n",
    "rows = [[int(el) if el.isdigit() else el for el in r] for r in rows]\n",
    "columns = [l.strip('County ') for l in lines[:last_col_line+1]]"
   ]
  },
  {
   "cell_type": "code",
   "execution_count": 219,
   "metadata": {
    "collapsed": false
   },
   "outputs": [
    {
     "name": "stdout",
     "output_type": "stream",
     "text": [
      "May 18, 2010, Primary Election Abstracts of Votes * Nominee \n",
      "** Elected WI = Write In\n",
      " 2UNITED STATES SENATOR Republican  Stutzman Parker Later Dinkel \n",
      "*Huffman Woodland Waldron Misc. \n",
      "County Tom Robin S Loren G Shane Jim Walter H       Keith  \n",
      "Baker 235 106 375 364 587 32 245 18 \n",
      "Benton 797 268 919 702 2,207 86 431 51 \n",
      "Clackamas 2,940 1,281 3,590\n",
      " 3,054 13,624 382 2,582 162 \n",
      "Clatsop 345 199 302 276 1,044 45 259 45 \n",
      "Columbia 383 171 485 568 1,555 66 238 43 \n",
      "Coos 843 466 979 830 1,773 128 598 56 \n",
      "\n",
      "Crook 255 122 329 441 894 60 332 28 \n",
      "Curry 339 188 516 539 746 55 258 33 \n",
      "Deschutes 1,053 813 2,161 2,103 6,677 189 1,264 107 \n",
      "Douglas 1,362 652 1,983 1,901 4,784 208 1,314 113 \n",
      "Gilliam 20 12 22 28 171 0 11 1 \n",
      "\n",
      "Grant 90 41 93 209 590 18 81 14 \n",
      "Harney 147 71 184 212 280 15 153 19 \n",
      "Hood River 201 104 148 164 574 21 122 11 \n",
      "Jackson 1,429 925 3,549 2,838 5,250 251 1,603 106 \n",
      "Jefferson 116 67 144 297 1,168 34 121  9 \n",
      "\n",
      "Josephine 890 570 1,568 1,661 2,535 192 1,075 102 \n",
      "Klamath 640 501 1,419 1,236 1,978 145 1,005 53 \n",
      "Lake 195 90 215 203 241 19 187  8 \n",
      "Lane 2,590 1,385 3,358 3,372 9,528 517 1,396 241 \n",
      "Lincoln 554 241 526 481 1,287 60 264 36 \n",
      "\n",
      "Linn 2,074 504 1,622 1,229 3,234 141 753 44 \n",
      "Malheur 313 165 441 671 730 42 405 17 \n",
      "Marion 3,562 1,283 3,153 2,972 9,140 386 2,107 195 \n",
      "Morrow 155 56 128 147 271 31 105 10 \n",
      "Multnomah 2,739 1,202 2,826 2,459 12,215 386 2,128 304 \n",
      "\n",
      "Polk 1,173 339 978 887 2,713 110 691 32 \n",
      "Sherman 27 11 27 18 202 2 20  4 \n",
      "Tillamook 286 118 283 266 904 42 253 28 \n",
      "Umatilla 515 295 683 817 1,437 87 723 53 \n",
      "Union 367 157 395 508 1,047 42 333 42 \n",
      "\n",
      "Wallowa 95 59 148 328 326 27 193 22 \n",
      "Wasco 169 81 137 158 1,362 24 148 17 \n",
      "Washington 3,512 1,586 4,894\n",
      " 3,564 15,615 428 2,450 261 \n",
      "Wheeler 20 10 15 19 101 2 26  7 \n",
      "Yamhill 1,428 498 1,158 1,238 3,660 144 728 71 \n",
      " TOTAL 31,859 14,637 39,753 36,760 110,\n",
      "450 4,417   24,602   2,363 \n",
      "\n"
     ]
    }
   ],
   "source": [
    "print(pages[1])"
   ]
  },
  {
   "cell_type": "code",
   "execution_count": 218,
   "metadata": {
    "collapsed": false
   },
   "outputs": [
    {
     "data": {
      "text/plain": [
       "['County Tom Robin S Loren G Shane Jim Walter H Keith',\n",
       " 'Baker 235 106 375 364 587 32 245 18',\n",
       " 'Benton 797 268 919 702 2,207 86 431 51',\n",
       " 'Clackamas 2,940 1,281 3,590 3,054 13,624 382 2,582 162',\n",
       " 'Clatsop 345 199 302 276 1,044 45 259 45',\n",
       " 'Columbia 383 171 485 568 1,555 66 238 43',\n",
       " 'Coos 843 466 979 830 1,773 128 598 56',\n",
       " 'Crook 255 122 329 441 894 60 332 28',\n",
       " 'Curry 339 188 516 539 746 55 258 33',\n",
       " 'Deschutes 1,053 813 2,161 2,103 6,677 189 1,264 107',\n",
       " 'Douglas 1,362 652 1,983 1,901 4,784 208 1,314 113',\n",
       " 'Gilliam 20 12 22 28 171 0 11 1',\n",
       " 'Grant 90 41 93 209 590 18 81 14',\n",
       " 'Harney 147 71 184 212 280 15 153 19',\n",
       " 'Hood River 201 104 148 164 574 21 122 11',\n",
       " 'Jackson 1,429 925 3,549 2,838 5,250 251 1,603 106',\n",
       " 'Jefferson 116 67 144 297 1,168 34 121 9',\n",
       " 'Josephine 890 570 1,568 1,661 2,535 192 1,075 102',\n",
       " 'Klamath 640 501 1,419 1,236 1,978 145 1,005 53',\n",
       " 'Lake 195 90 215 203 241 19 187 8',\n",
       " 'Lane 2,590 1,385 3,358 3,372 9,528 517 1,396 241',\n",
       " 'Lincoln 554 241 526 481 1,287 60 264 36',\n",
       " 'Linn 2,074 504 1,622 1,229 3,234 141 753 44',\n",
       " 'Malheur 313 165 441 671 730 42 405 17',\n",
       " 'Marion 3,562 1,283 3,153 2,972 9,140 386 2,107 195',\n",
       " 'Morrow 155 56 128 147 271 31 105 10',\n",
       " 'Multnomah 2,739 1,202 2,826 2,459 12,215 386 2,128 304',\n",
       " 'Polk 1,173 339 978 887 2,713 110 691 32',\n",
       " 'Sherman 27 11 27 18 202 2 20 4',\n",
       " 'Tillamook 286 118 283 266 904 42 253 28',\n",
       " 'Umatilla 515 295 683 817 1,437 87 723 53',\n",
       " 'Union 367 157 395 508 1,047 42 333 42',\n",
       " 'Wallowa 95 59 148 328 326 27 193 22',\n",
       " 'Wasco 169 81 137 158 1,362 24 148 17',\n",
       " 'Washington 3,512 1,586 4,894 3,564 15,615 428 2,450 261',\n",
       " 'Wheeler 20 10 15 19 101 2 26 7',\n",
       " 'Yamhill 1,428 498 1,158 1,238 3,660 144 728 71',\n",
       " 'TOTAL 31,859 14,637 39,753 36,760 110, 450 4,417 24,602 2,363']"
      ]
     },
     "execution_count": 218,
     "metadata": {},
     "output_type": "execute_result"
    }
   ],
   "source": [
    "lines"
   ]
  },
  {
   "cell_type": "code",
   "execution_count": 213,
   "metadata": {
    "collapsed": false
   },
   "outputs": [
    {
     "data": {
      "text/plain": [
       "['Tom Robin S Loren G Shane Jim Walter H Keith']"
      ]
     },
     "execution_count": 213,
     "metadata": {},
     "output_type": "execute_result"
    }
   ],
   "source": [
    "columns"
   ]
  },
  {
   "cell_type": "code",
   "execution_count": 214,
   "metadata": {
    "collapsed": false,
    "deletable": true,
    "editable": true
   },
   "outputs": [
    {
     "ename": "AssertionError",
     "evalue": "10 columns passed, passed data had 9 columns",
     "output_type": "error",
     "traceback": [
      "\u001b[0;31m---------------------------------------------------------------------------\u001b[0m",
      "\u001b[0;31mAssertionError\u001b[0m                            Traceback (most recent call last)",
      "\u001b[0;32m<ipython-input-214-eeb7e9996ae1>\u001b[0m in \u001b[0;36m<module>\u001b[0;34m()\u001b[0m\n\u001b[0;32m----> 1\u001b[0;31m \u001b[0mDF\u001b[0m\u001b[0;34m(\u001b[0m\u001b[0mrows\u001b[0m\u001b[0;34m,\u001b[0m \u001b[0mcolumns\u001b[0m\u001b[0;34m=\u001b[0m\u001b[0mcolumns\u001b[0m\u001b[0;34m[\u001b[0m\u001b[0;36m0\u001b[0m\u001b[0;34m]\u001b[0m\u001b[0;34m.\u001b[0m\u001b[0msplit\u001b[0m\u001b[0;34m(\u001b[0m\u001b[0;34m)\u001b[0m\u001b[0;34m)\u001b[0m\u001b[0;34m\u001b[0m\u001b[0m\n\u001b[0m",
      "\u001b[0;32m/Users/michaelcrown/anaconda/lib/python3.4/site-packages/pandas/core/frame.py\u001b[0m in \u001b[0;36m__init__\u001b[0;34m(self, data, index, columns, dtype, copy)\u001b[0m\n\u001b[1;32m    312\u001b[0m                     \u001b[0;32mif\u001b[0m \u001b[0mis_named_tuple\u001b[0m\u001b[0;34m(\u001b[0m\u001b[0mdata\u001b[0m\u001b[0;34m[\u001b[0m\u001b[0;36m0\u001b[0m\u001b[0;34m]\u001b[0m\u001b[0;34m)\u001b[0m \u001b[0;32mand\u001b[0m \u001b[0mcolumns\u001b[0m \u001b[0;32mis\u001b[0m \u001b[0;32mNone\u001b[0m\u001b[0;34m:\u001b[0m\u001b[0;34m\u001b[0m\u001b[0m\n\u001b[1;32m    313\u001b[0m                         \u001b[0mcolumns\u001b[0m \u001b[0;34m=\u001b[0m \u001b[0mdata\u001b[0m\u001b[0;34m[\u001b[0m\u001b[0;36m0\u001b[0m\u001b[0;34m]\u001b[0m\u001b[0;34m.\u001b[0m\u001b[0m_fields\u001b[0m\u001b[0;34m\u001b[0m\u001b[0m\n\u001b[0;32m--> 314\u001b[0;31m                     \u001b[0marrays\u001b[0m\u001b[0;34m,\u001b[0m \u001b[0mcolumns\u001b[0m \u001b[0;34m=\u001b[0m \u001b[0m_to_arrays\u001b[0m\u001b[0;34m(\u001b[0m\u001b[0mdata\u001b[0m\u001b[0;34m,\u001b[0m \u001b[0mcolumns\u001b[0m\u001b[0;34m,\u001b[0m \u001b[0mdtype\u001b[0m\u001b[0;34m=\u001b[0m\u001b[0mdtype\u001b[0m\u001b[0;34m)\u001b[0m\u001b[0;34m\u001b[0m\u001b[0m\n\u001b[0m\u001b[1;32m    315\u001b[0m                     \u001b[0mcolumns\u001b[0m \u001b[0;34m=\u001b[0m \u001b[0m_ensure_index\u001b[0m\u001b[0;34m(\u001b[0m\u001b[0mcolumns\u001b[0m\u001b[0;34m)\u001b[0m\u001b[0;34m\u001b[0m\u001b[0m\n\u001b[1;32m    316\u001b[0m \u001b[0;34m\u001b[0m\u001b[0m\n",
      "\u001b[0;32m/Users/michaelcrown/anaconda/lib/python3.4/site-packages/pandas/core/frame.py\u001b[0m in \u001b[0;36m_to_arrays\u001b[0;34m(data, columns, coerce_float, dtype)\u001b[0m\n\u001b[1;32m   5615\u001b[0m     \u001b[0;32mif\u001b[0m \u001b[0misinstance\u001b[0m\u001b[0;34m(\u001b[0m\u001b[0mdata\u001b[0m\u001b[0;34m[\u001b[0m\u001b[0;36m0\u001b[0m\u001b[0;34m]\u001b[0m\u001b[0;34m,\u001b[0m \u001b[0;34m(\u001b[0m\u001b[0mlist\u001b[0m\u001b[0;34m,\u001b[0m \u001b[0mtuple\u001b[0m\u001b[0;34m)\u001b[0m\u001b[0;34m)\u001b[0m\u001b[0;34m:\u001b[0m\u001b[0;34m\u001b[0m\u001b[0m\n\u001b[1;32m   5616\u001b[0m         return _list_to_arrays(data, columns, coerce_float=coerce_float,\n\u001b[0;32m-> 5617\u001b[0;31m                                dtype=dtype)\n\u001b[0m\u001b[1;32m   5618\u001b[0m     \u001b[0;32melif\u001b[0m \u001b[0misinstance\u001b[0m\u001b[0;34m(\u001b[0m\u001b[0mdata\u001b[0m\u001b[0;34m[\u001b[0m\u001b[0;36m0\u001b[0m\u001b[0;34m]\u001b[0m\u001b[0;34m,\u001b[0m \u001b[0mcollections\u001b[0m\u001b[0;34m.\u001b[0m\u001b[0mMapping\u001b[0m\u001b[0;34m)\u001b[0m\u001b[0;34m:\u001b[0m\u001b[0;34m\u001b[0m\u001b[0m\n\u001b[1;32m   5619\u001b[0m         return _list_of_dict_to_arrays(data, columns,\n",
      "\u001b[0;32m/Users/michaelcrown/anaconda/lib/python3.4/site-packages/pandas/core/frame.py\u001b[0m in \u001b[0;36m_list_to_arrays\u001b[0;34m(data, columns, coerce_float, dtype)\u001b[0m\n\u001b[1;32m   5694\u001b[0m         \u001b[0mcontent\u001b[0m \u001b[0;34m=\u001b[0m \u001b[0mlist\u001b[0m\u001b[0;34m(\u001b[0m\u001b[0mlib\u001b[0m\u001b[0;34m.\u001b[0m\u001b[0mto_object_array\u001b[0m\u001b[0;34m(\u001b[0m\u001b[0mdata\u001b[0m\u001b[0;34m)\u001b[0m\u001b[0;34m.\u001b[0m\u001b[0mT\u001b[0m\u001b[0;34m)\u001b[0m\u001b[0;34m\u001b[0m\u001b[0m\n\u001b[1;32m   5695\u001b[0m     return _convert_object_array(content, columns, dtype=dtype,\n\u001b[0;32m-> 5696\u001b[0;31m                                  coerce_float=coerce_float)\n\u001b[0m\u001b[1;32m   5697\u001b[0m \u001b[0;34m\u001b[0m\u001b[0m\n\u001b[1;32m   5698\u001b[0m \u001b[0;34m\u001b[0m\u001b[0m\n",
      "\u001b[0;32m/Users/michaelcrown/anaconda/lib/python3.4/site-packages/pandas/core/frame.py\u001b[0m in \u001b[0;36m_convert_object_array\u001b[0;34m(content, columns, coerce_float, dtype)\u001b[0m\n\u001b[1;32m   5753\u001b[0m             \u001b[0;31m# caller's responsibility to check for this...\u001b[0m\u001b[0;34m\u001b[0m\u001b[0;34m\u001b[0m\u001b[0m\n\u001b[1;32m   5754\u001b[0m             raise AssertionError('%d columns passed, passed data had %s '\n\u001b[0;32m-> 5755\u001b[0;31m                                  'columns' % (len(columns), len(content)))\n\u001b[0m\u001b[1;32m   5756\u001b[0m \u001b[0;34m\u001b[0m\u001b[0m\n\u001b[1;32m   5757\u001b[0m     \u001b[0;31m# provide soft conversion of object dtypes\u001b[0m\u001b[0;34m\u001b[0m\u001b[0;34m\u001b[0m\u001b[0m\n",
      "\u001b[0;31mAssertionError\u001b[0m: 10 columns passed, passed data had 9 columns"
     ]
    }
   ],
   "source": [
    "DF(rows, columns=columns[0].split())"
   ]
  },
  {
   "cell_type": "code",
   "execution_count": 14,
   "metadata": {
    "collapsed": false,
    "deletable": true,
    "editable": true
   },
   "outputs": [
    {
     "data": {
      "text/plain": [
       "['Stutzman Parker Later Dinkel',\n",
       " '*Huffman Woodland Waldron Misc.',\n",
       " 'Tom Robin S Loren G Shane Jim Walter H Keith']"
      ]
     },
     "execution_count": 14,
     "metadata": {},
     "output_type": "execute_result"
    }
   ],
   "source": [
    "Crowncolumns"
   ]
  },
  {
   "cell_type": "code",
   "execution_count": 15,
   "metadata": {
    "collapsed": false,
    "deletable": true,
    "editable": true
   },
   "outputs": [
    {
     "name": "stdout",
     "output_type": "stream",
     "text": [
      "Stutzman Parker Later Dinkel \n",
      "*Huffman Woodland Waldron Misc. \n",
      "County Tom Robin S Loren G Shane Jim Walter H       Keith  \n",
      "Baker 235 106 375 364 587 32 245 18 \n",
      "Benton 797 268 919 702 2,207 86 431 51 \n",
      "Clackamas 2,940 1,281 3,590\n",
      " 3,054 13,624 382 2,582 162 \n",
      "Clatsop 345 199 302 276 1,044 45 259 45 \n",
      "Columbia 383 171 485 568 1,555 66 238 43 \n",
      "Coos 843 466 979 830 1,773 128 598 56 \n",
      "\n",
      "Crook 255 122 329 441 894 60 332 28 \n",
      "Curry 339 188 516 539 746 55 258 33 \n",
      "Deschutes 1,053 813 2,161 2,103 6,677 189 1,264 107 \n",
      "Douglas 1,362 652 1,983 1,901 4,784 208 1,314 113 \n",
      "Gilliam 20 12 22 28 171 0 11 1 \n",
      "\n",
      "Grant 90 41 93 209 590 18 81 14 \n",
      "Harney 147 71 184 212 280 15 153 19 \n",
      "Hood River 201 104 148 164 574 21 122 11 \n",
      "Jackson 1,429 925 3,549 2,838 5,250 251 1,603 106 \n",
      "Jefferson 116 67 144 297 1,168 34 121  9 \n",
      "\n",
      "Josephine 890 570 1,568 1,661 2,535 192 1,075 102 \n",
      "Klamath 640 501 1,419 1,236 1,978 145 1,005 53 \n",
      "Lake 195 90 215 203 241 19 187  8 \n",
      "Lane 2,590 1,385 3,358 3,372 9,528 517 1,396 241 \n",
      "Lincoln 554 241 526 481 1,287 60 264 36 \n",
      "\n",
      "Linn 2,074 504 1,622 1,229 3,234 141 753 44 \n",
      "Malheur 313 165 441 671 730 42 405 17 \n",
      "Marion 3,562 1,283 3,153 2,972 9,140 386 2,107 195 \n",
      "Morrow 155 56 128 147 271 31 105 10 \n",
      "Multnomah 2,739 1,202 2,826 2,459 12,215 386 2,128 304 \n",
      "\n",
      "Polk 1,173 339 978 887 2,713 110 691 32 \n",
      "Sherman 27 11 27 18 202 2 20  4 \n",
      "Tillamook 286 118 283 266 904 42 253 28 \n",
      "Umatilla 515 295 683 817 1,437 87 723 53 \n",
      "Union 367 157 395 508 1,047 42 333 42 \n",
      "\n",
      "Wallowa 95 59 148 328 326 27 193 22 \n",
      "Wasco 169 81 137 158 1,362 24 148 17 \n",
      "Washington 3,512 1,586 4,894\n",
      " 3,564 15,615 428 2,450 261 \n",
      "Wheeler 20 10 15 19 101 2 26  7 \n",
      "Yamhill 1,428 498 1,158 1,238 3,660 144 728 71 \n",
      " TOTAL 31,859 14,637 39,753 36,760 110,\n",
      "450 4,417   24,602   2,363 \n",
      "\n"
     ]
    }
   ],
   "source": [
    "print(strings[0])"
   ]
  }
 ],
 "metadata": {
  "kernelspec": {
   "display_name": "Python 3",
   "language": "python",
   "name": "python3"
  },
  "language_info": {
   "codemirror_mode": {
    "name": "ipython",
    "version": 3
   },
   "file_extension": ".py",
   "mimetype": "text/x-python",
   "name": "python",
   "nbconvert_exporter": "python",
   "pygments_lexer": "ipython3",
   "version": "3.4.5"
  }
 },
 "nbformat": 4,
 "nbformat_minor": 2
}
